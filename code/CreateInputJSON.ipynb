{
 "cells": [
  {
   "cell_type": "code",
   "execution_count": 1,
   "id": "ed4096f5-520b-45b3-81d2-15ff92300dc2",
   "metadata": {},
   "outputs": [],
   "source": [
    "import os, sys\n",
    "import glob\n",
    "import json\n",
    "import subprocess\n",
    "import random\n",
    "\n",
    "import pandas as pd\n",
    "\n",
    "!module load ffmpeg"
   ]
  },
  {
   "cell_type": "markdown",
   "id": "c487bcaf-5332-4b3f-8d47-cf6e58092ebd",
   "metadata": {},
   "source": [
    "## Create JSPsych audio file inputs (participant parameter files)"
   ]
  },
  {
   "cell_type": "code",
   "execution_count": 2,
   "id": "3b6d8f9b",
   "metadata": {},
   "outputs": [],
   "source": [
    "# Modify these for each participant\n",
    "SUB_ID = 'sub-003'"
   ]
  },
  {
   "cell_type": "code",
   "execution_count": 3,
   "id": "35032334",
   "metadata": {},
   "outputs": [],
   "source": [
    "# Define variables\n",
    "N_SUBS = 1\n",
    "TASK = 'storycorps-continuous-rater'\n",
    "\n",
    "base_dir = '/dartfs/rc/lab/F/FinnLab/dallas/projects/storycorps-continuous-rater/'"
   ]
  },
  {
   "cell_type": "markdown",
   "id": "0eb18042",
   "metadata": {},
   "source": [
    "## Create JSON file with audio files (in order)"
   ]
  },
  {
   "cell_type": "code",
   "execution_count": 4,
   "id": "430f4fcc",
   "metadata": {},
   "outputs": [],
   "source": [
    "stim_dir = os.path.join(base_dir, 'stimuli', SUB_ID) # input\n",
    "audio_files = os.path.join(base_dir, 'audio-file-orders') # output\n",
    "\n",
    "num_stim = len(glob.glob(os.path.join(stim_dir, '*.wav')))\n",
    "\n",
    "# make the directory to write out json files\n",
    "if not os.path.exists(audio_files):\n",
    "    os.makedirs(audio_files)\n",
    "\n",
    "# find all mp3 files in the path stim dir\n",
    "stim_list = glob.glob(os.path.join(stim_dir, '*.wav'))\n",
    "stim_list.sort(key=lambda x: int(os.path.splitext(os.path.basename(x))[0].replace('split', '')))\n",
    "\n",
    "# create a dataframe to hold experiment information\n",
    "audio_df = pd.DataFrame(stim_list, columns=['stimulus'])\n",
    "\n",
    "for i in range(N_SUBS):\n",
    "    # save the file out\n",
    "    sub_fn = os.path.join(audio_files, f'{SUB_ID}_{TASK}.json')\n",
    "    audio_df.to_json(sub_fn, orient='records')"
   ]
  },
  {
   "cell_type": "markdown",
   "id": "55aa0e02",
   "metadata": {},
   "source": [
    "## Create JSON file with practice audio files (in order)"
   ]
  },
  {
   "cell_type": "code",
   "execution_count": 5,
   "id": "cae53c84",
   "metadata": {},
   "outputs": [],
   "source": [
    "practice_stim_dir = os.path.join(base_dir, 'practice-stimuli') # input\n",
    "practice_audio_files = os.path.join(base_dir, 'practice-audio-file-orders') # output\n",
    "\n",
    "practice_num_stim = len(glob.glob(os.path.join(practice_stim_dir, '*.mp3')))\n",
    "\n",
    "# make the directory to write out json files\n",
    "if not os.path.exists(practice_audio_files):\n",
    "    os.makedirs(practice_audio_files)\n",
    "\n",
    "# find all mp3 files in the path stim dir\n",
    "practice_stim_list = glob.glob(os.path.join(practice_stim_dir, '*.mp3'))\n",
    "practice_stim_list.sort(key=lambda x: int(os.path.splitext(os.path.basename(x))[0].replace('split', '')))\n",
    "\n",
    "# create a dataframe to hold experiment information\n",
    "practice_audio_df = pd.DataFrame(practice_stim_list, columns=['practice_stimulus'])\n",
    "\n",
    "for i in range(N_SUBS):\n",
    "    # save the file out\n",
    "    practice_sub_fn = os.path.join(practice_audio_files, f'{SUB_ID}_{TASK}.json')\n",
    "    practice_audio_df.to_json(practice_sub_fn, orient='records')"
   ]
  },
  {
   "cell_type": "markdown",
   "id": "00c03167-ce2f-4245-89f9-8a74076f95d9",
   "metadata": {},
   "source": [
    "## (3) Adding experiment structure to participant level files"
   ]
  },
  {
   "cell_type": "code",
   "execution_count": 6,
   "id": "2ad8c3e1-0766-405d-9a6e-920621018c7d",
   "metadata": {},
   "outputs": [
    {
     "ename": "NameError",
     "evalue": "name 'CLOSING_URL' is not defined",
     "output_type": "error",
     "traceback": [
      "\u001b[0;31m---------------------------------------------------------------------------\u001b[0m",
      "\u001b[0;31mNameError\u001b[0m                                 Traceback (most recent call last)",
      "Cell \u001b[0;32mIn[6], line 3\u001b[0m\n\u001b[1;32m      1\u001b[0m global_parameters \u001b[38;5;241m=\u001b[39m {\n\u001b[1;32m      2\u001b[0m     \u001b[38;5;124m'\u001b[39m\u001b[38;5;124moutput_path\u001b[39m\u001b[38;5;124m'\u001b[39m: \u001b[38;5;124m\"\u001b[39m\u001b[38;5;124m/dartfs/rc/lab/F/FinnLab/tommy/jspsych_experiments/data/\u001b[39m\u001b[38;5;124m\"\u001b[39m,\n\u001b[0;32m----> 3\u001b[0m     \u001b[38;5;124m'\u001b[39m\u001b[38;5;124mclosing_url\u001b[39m\u001b[38;5;124m'\u001b[39m: \u001b[43mCLOSING_URL\u001b[49m,\n\u001b[1;32m      4\u001b[0m     \u001b[38;5;124m'\u001b[39m\u001b[38;5;124mnum_experiments\u001b[39m\u001b[38;5;124m'\u001b[39m: \u001b[38;5;241m1\u001b[39m,\n\u001b[1;32m      5\u001b[0m     \u001b[38;5;124m\"\u001b[39m\u001b[38;5;124mcurrent_experiment\u001b[39m\u001b[38;5;124m\"\u001b[39m: \u001b[38;5;241m0\u001b[39m\n\u001b[1;32m      6\u001b[0m }\n",
      "\u001b[0;31mNameError\u001b[0m: name 'CLOSING_URL' is not defined"
     ]
    }
   ],
   "source": [
    "global_parameters = {\n",
    "    'output_path': \"/dartfs/rc/lab/F/FinnLab/tommy/jspsych_experiments/data/\",\n",
    "    'closing_url': CLOSING_URL,\n",
    "    'num_experiments': 1,\n",
    "    \"current_experiment\": 0\n",
    "}\n",
    "\n",
    "# experiment_parameters = {\n",
    "#     \"experiment_name\": EXPERIMENT_NAME,\n",
    "#     \"experiment_version\": p.experiment_version,\n",
    "#     \"task_name\": p.task,\n",
    "#     \"experiment_url\": os.path.join(URL_BASE, \"experiments/next-word-prediction/next-word-prediction.html\")\n",
    "# }"
   ]
  }
 ],
 "metadata": {
  "kernelspec": {
   "display_name": "Python 3 (ipykernel)",
   "language": "python",
   "name": "python3"
  },
  "language_info": {
   "codemirror_mode": {
    "name": "ipython",
    "version": 3
   },
   "file_extension": ".py",
   "mimetype": "text/x-python",
   "name": "python",
   "nbconvert_exporter": "python",
   "pygments_lexer": "ipython3",
   "version": "3.9.19"
  }
 },
 "nbformat": 4,
 "nbformat_minor": 5
}
